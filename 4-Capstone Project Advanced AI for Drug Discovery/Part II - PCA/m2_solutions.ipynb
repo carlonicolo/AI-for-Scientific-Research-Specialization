{
 "cells": [
  {
   "cell_type": "code",
   "execution_count": null,
   "metadata": {},
   "outputs": [],
   "source": [
    "### Loading in packages\n",
    "\n",
    "import pandas as pd\n",
    "import numpy as np\n",
    "from sklearn.decomposition import PCA\n",
    "import matplotlib.pyplot as plt\n",
    "from sklearn.cluster import KMeans\n",
    "import seaborn as sns"
   ]
  },
  {
   "cell_type": "code",
   "execution_count": null,
   "metadata": {},
   "outputs": [],
   "source": [
    "### Reading in data. Our data is stored in a dataframe called 'df'.\n",
    "\n",
    "df = pd.read_csv('Alignment-HitTable.csv', header = None)\n",
    "df.columns = ['query acc.verr', 'subject acc.ver', '% identity', 'alignment length', 'mismatches', \n",
    "             'gap opens', 'q. start', 'q. end', 's. start', 's. end', 'evalue', 'bit score']\n",
    "df.head()"
   ]
  },
  {
   "cell_type": "code",
   "execution_count": null,
   "metadata": {},
   "outputs": [],
   "source": [
    "## Part A (10 pts):\n",
    "\n",
    "## Use the .describe() method to analyze the dataframe. Store the results in a new dataframe called 'results'.\n",
    "\n",
    "results = df.describe()"
   ]
  },
  {
   "cell_type": "code",
   "execution_count": null,
   "metadata": {},
   "outputs": [],
   "source": [
    "## Part B (10 pts):\n",
    "\n",
    "## Store the correlation of the dataframe in a variable called 'corr'.\n",
    "\n",
    "corr = df.corr()"
   ]
  },
  {
   "cell_type": "code",
   "execution_count": null,
   "metadata": {},
   "outputs": [],
   "source": [
    "fig, ax = plt.subplots(figsize = (10,10))\n",
    "sns.heatmap(corr, annot = True, cmap = 'YlGnBu')\n",
    "plt.show()"
   ]
  },
  {
   "cell_type": "code",
   "execution_count": null,
   "metadata": {},
   "outputs": [],
   "source": [
    "## Part C (30 pts)\n",
    "\n",
    "## Perform PCA with 2 components on the numeric columns of the datafame. Fit the PCA in a variable called 'pca'.\n",
    "\n",
    "df_numeric = df[['% identity', 'alignment length', 'mismatches', 'gap opens', 'q. start', 'q. end',\n",
    "        's. start', 's. end', 'evalue', 'bit score']]\n",
    "\n",
    "pca = PCA(n_components=2)\n",
    "pca.fit(df_numeric);"
   ]
  },
  {
   "cell_type": "code",
   "execution_count": null,
   "metadata": {},
   "outputs": [],
   "source": [
    "### Part D (25 pts)\n",
    "\n",
    "## Store the components of the PCA in a dataframe called 'components'. Name the index as ['Component 1', 'Component 2'].\n",
    "\n",
    "components = pd.DataFrame(pca.components_)\n",
    "\n",
    "components.columns = ['% identity', 'alignment length', 'mismatches', 'gap opens', 'q. start', 'q. end',\n",
    "        's. start', 's. end', 'evalue', 'bit score']\n",
    "\n",
    "components.index = ['Component 1', 'Component 2']"
   ]
  },
  {
   "cell_type": "code",
   "execution_count": null,
   "metadata": {},
   "outputs": [],
   "source": [
    "fig, ax = plt.subplots(figsize = (10,3))\n",
    "sns.heatmap(components, annot = True, cmap = 'YlGnBu')\n",
    "plt.show()"
   ]
  },
  {
   "cell_type": "code",
   "execution_count": null,
   "metadata": {},
   "outputs": [],
   "source": [
    "### Part E (25 pts)\n",
    "\n",
    "## Fit a K-Means clustering algorithm on the numeric data with 2 clusters and a random state of 0.\n",
    "## Store the predicted groups in a variable called 'y_pred'\n",
    "\n",
    "kmeans = KMeans(n_clusters=2, random_state=0).fit(df_numeric)\n",
    "y_pred = kmeans.predict(df_numeric)"
   ]
  },
  {
   "cell_type": "code",
   "execution_count": null,
   "metadata": {},
   "outputs": [],
   "source": [
    "sns.scatterplot(x= pca.transform(df_numeric)[:, 0], y = pca.transform(df_numeric)[:, 1], hue = y_pred)"
   ]
  }
 ],
 "metadata": {
  "kernelspec": {
   "display_name": "Python 3",
   "language": "python",
   "name": "python3"
  },
  "language_info": {
   "codemirror_mode": {
    "name": "ipython",
    "version": 3
   },
   "file_extension": ".py",
   "mimetype": "text/x-python",
   "name": "python",
   "nbconvert_exporter": "python",
   "pygments_lexer": "ipython3",
   "version": "3.7.6"
  }
 },
 "nbformat": 4,
 "nbformat_minor": 4
}
